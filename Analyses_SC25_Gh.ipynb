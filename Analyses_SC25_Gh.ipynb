{
 "cells": [
  {
   "cell_type": "markdown",
   "id": "4930b7f8-7f96-4bdb-b985-050b18ee06a7",
   "metadata": {},
   "source": [
    "# Script to analyze my SC25 project dataset (A22)"
   ]
  },
  {
   "cell_type": "markdown",
   "id": "ab74cda1-e926-4de1-9bcc-bface5bf669b",
   "metadata": {},
   "source": [
    "### Brief description of the experiment"
   ]
  },
  {
   "cell_type": "markdown",
   "id": "f7d5b769-54ba-4e59-a5a3-2b6762ccb9a1",
   "metadata": {},
   "source": [
    "**Context** Affective contagion can be affected  by social environment.  \n",
    "**Hypothesis** When interacting with two agents, incongruent emotions expressed by agent 1 and agent 2 will dempen participants' affective decoding.  \n",
    "**Experimental procedure** At each trial, participants from the SC25 TD were presented with two concomittant videos of Agent 1 and Agent 2. While Agent 1 verbalized an emotion with a neutral face, Agent 2 expressed a facial emotion which coud be congruent or not. We used 15 combinations of congruent ('C' trials)/non-congruent ('NC' trials) videos (i.e., 15 trials). The movies were presented for 15 seconds, and participants had 10 seconds to give their answer before the next trial."
   ]
  },
  {
   "cell_type": "markdown",
   "id": "80a44981-d09d-461e-a9d5-e73199aa1023",
   "metadata": {},
   "source": [
    "### Analysis Steps"
   ]
  },
  {
   "cell_type": "code",
   "execution_count": 2,
   "id": "f5dfecee-9867-458a-a893-fda74b40a982",
   "metadata": {},
   "outputs": [],
   "source": [
    "# LOAD THE NECESSARY LIBRARIES\n",
    "\n",
    "import numpy as np \n",
    "import pandas as pd\n",
    "import seaborn as sns\n",
    "import matplotlib.pyplot as plt\n",
    "\n",
    "# if nedded, install new libraries through the Anaconda Powershell-prompt using:\n",
    "# conda install -c conda-forge statsmodels, then:\n",
    "\n",
    "import statsmodels.api as sm\n",
    "from statsmodels.formula.api import ols\n",
    "from statsmodels.stats.multicomp import pairwise_tukeyhsd"
   ]
  },
  {
   "cell_type": "code",
   "execution_count": 3,
   "id": "b5fe1a68-4030-4ede-8338-f97535019d26",
   "metadata": {},
   "outputs": [],
   "source": [
    "# CREATE A DATAFRAME FROM THE IMPORTED CSV WITH THE RESPONSE DATA\n",
    "\n",
    "df = pd.read_csv('FinalData.csv', sep = \";\")\n",
    "# print(df) # 405 rows (n=27)"
   ]
  },
  {
   "cell_type": "code",
   "execution_count": 4,
   "id": "43267ab5-f13a-41a7-92f2-9bc370a401cd",
   "metadata": {},
   "outputs": [],
   "source": [
    "# DATA-CLEANING\n",
    "# Only keep participants who used more than 3 types of response on a [0-10] scale:\n",
    "\n",
    "df_filtered = df[df.groupby('Participant').Score.transform('var') > 2]\n",
    "# print(df_filtered) #345 rows (n=23)"
   ]
  },
  {
   "cell_type": "code",
   "execution_count": 5,
   "id": "320552f7-9006-4187-aba2-c7ace940cc64",
   "metadata": {},
   "outputs": [
    {
     "data": {
      "image/png": "[encoded data removed]",
      "text/plain": [
       "<Figure size 640x480 with 1 Axes>"
      ]
     },
     "metadata": {},
     "output_type": "display_data"
    }
   ],
   "source": [
    "# PLOT THE RESULTS\n",
    "# Visualize mean scores using a Barplot with standard errors:\n",
    "\n",
    "sns.barplot(x=\"Emotions\", y=\"Score\", errorbar=\"se\", hue=\"TypeEssai\", data=df_filtered, palette=\"Set3\")\n",
    "plt.savefig('SC25_Gp_BarPlot.png')\n",
    "plt.show()"
   ]
  },
  {
   "cell_type": "code",
   "execution_count": 6,
   "id": "996192a2-96ad-4617-9c63-e695b941f106",
   "metadata": {},
   "outputs": [
    {
     "data": {
      "text/html": [
       "<div>\n",
       "<style scoped>\n",
       "    .dataframe tbody tr th:only-of-type {\n",
       "        vertical-align: middle;\n",
       "    }\n",
       "\n",
       "    .dataframe tbody tr th {\n",
       "        vertical-align: top;\n",
       "    }\n",
       "\n",
       "    .dataframe thead th {\n",
       "        text-align: right;\n",
       "    }\n",
       "</style>\n",
       "<table border=\"1\" class=\"dataframe\">\n",
       "  <thead>\n",
       "    <tr style=\"text-align: right;\">\n",
       "      <th></th>\n",
       "      <th>sum_sq</th>\n",
       "      <th>df</th>\n",
       "      <th>F</th>\n",
       "      <th>PR(&gt;F)</th>\n",
       "    </tr>\n",
       "  </thead>\n",
       "  <tbody>\n",
       "    <tr>\n",
       "      <th>C(Emotions)</th>\n",
       "      <td>340.162319</td>\n",
       "      <td>4.0</td>\n",
       "      <td>10.772860</td>\n",
       "      <td>3.166040e-08</td>\n",
       "    </tr>\n",
       "    <tr>\n",
       "      <th>C(TypeEssai)</th>\n",
       "      <td>90.579710</td>\n",
       "      <td>1.0</td>\n",
       "      <td>11.474552</td>\n",
       "      <td>7.895529e-04</td>\n",
       "    </tr>\n",
       "    <tr>\n",
       "      <th>C(Emotions):C(TypeEssai)</th>\n",
       "      <td>29.028986</td>\n",
       "      <td>4.0</td>\n",
       "      <td>0.919341</td>\n",
       "      <td>4.527652e-01</td>\n",
       "    </tr>\n",
       "    <tr>\n",
       "      <th>Residual</th>\n",
       "      <td>2644.478261</td>\n",
       "      <td>335.0</td>\n",
       "      <td>NaN</td>\n",
       "      <td>NaN</td>\n",
       "    </tr>\n",
       "  </tbody>\n",
       "</table>\n",
       "</div>"
      ],
      "text/plain": [
       "                               sum_sq     df          F        PR(>F)\n",
       "C(Emotions)                340.162319    4.0  10.772860  3.166040e-08\n",
       "C(TypeEssai)                90.579710    1.0  11.474552  7.895529e-04\n",
       "C(Emotions):C(TypeEssai)    29.028986    4.0   0.919341  4.527652e-01\n",
       "Residual                  2644.478261  335.0        NaN           NaN"
      ]
     },
     "execution_count": 6,
     "metadata": {},
     "output_type": "execute_result"
    }
   ],
   "source": [
    "# RUN A TWO-WAY ANOVA\n",
    "# DV = 'Score', Factors = \"Emotion\" + \"TypeEssai\":\n",
    "\n",
    "model = ols('Score ~ C(Emotions) + C(TypeEssai) + C(Emotions):C(TypeEssai)', data=df_filtered).fit()\n",
    "ANOVAtable = sm.stats.anova_lm(model, typ=2)\n",
    "ANOVAtable"
   ]
  },
  {
   "cell_type": "markdown",
   "id": "fee03dda-7ef8-4158-84c2-0cc2b6c7cb48",
   "metadata": {},
   "source": [
    "**Interpretation** The 2-way ANOVA confirmed a significant difference in mean scores between emotions (p<3.16e-08) as well as between trial types (p<7.89e-04). However, no interaction between emotions and trial types were evidenced."
   ]
  },
  {
   "cell_type": "code",
   "execution_count": 7,
   "id": "935abeaf-de61-4cfb-b746-9ed572350e0a",
   "metadata": {},
   "outputs": [
    {
     "name": "stdout",
     "output_type": "stream",
     "text": [
      "Multiple Comparison of Means - Tukey HSD, FWER=0.05 \n",
      "====================================================\n",
      "group1 group2 meandiff p-adj   lower   upper  reject\n",
      "----------------------------------------------------\n",
      "     C     NC   -1.087 0.0014 -1.7528 -0.4211   True\n",
      "----------------------------------------------------\n"
     ]
    }
   ],
   "source": [
    "# RUN A POST-HOC COMPARISON\n",
    "# Look how scores changed between 'C' and 'NC' trials:\n",
    "\n",
    "tukey = pairwise_tukeyhsd(endog=df_filtered['Score'],\n",
    "                          groups=df_filtered['TypeEssai'],\n",
    "                          alpha=0.05)\n",
    "print(tukey)"
   ]
  },
  {
   "cell_type": "markdown",
   "id": "64bc1e74-8f48-4945-aa4c-729e04a38884",
   "metadata": {},
   "source": [
    "**Interpretation** The Tukey post-hoc test confirmed a significant decrease in the mean scores (1.1 pt on average) of 'NC' trials compared to 'C' trials (p<0.0014)."
   ]
  },
  {
   "cell_type": "code",
   "execution_count": null,
   "id": "f59e797a-e961-43b8-9123-7190aa7aebbb",
   "metadata": {},
   "outputs": [],
   "source": []
  }
 ],
 "metadata": {
  "kernelspec": {
   "display_name": "Python 3 (ipykernel)",
   "language": "python",
   "name": "python3"
  },
  "language_info": {
   "codemirror_mode": {
    "name": "ipython",
    "version": 3
   },
   "file_extension": ".py",
   "mimetype": "text/x-python",
   "name": "python",
   "nbconvert_exporter": "python",
   "pygments_lexer": "ipython3",
   "version": "3.9.18"
  }
 },
 "nbformat": 4,
 "nbformat_minor": 5
}
